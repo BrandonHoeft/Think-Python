{
 "cells": [
  {
   "cell_type": "markdown",
   "metadata": {},
   "source": [
    "# Think Python Chapter 3"
   ]
  },
  {
   "cell_type": "markdown",
   "metadata": {},
   "source": [
    "These are examples and exercises from chapter 3, which is focused on **functions**."
   ]
  },
  {
   "cell_type": "markdown",
   "metadata": {},
   "source": [
    "### Exercise 3-1"
   ]
  },
  {
   "cell_type": "markdown",
   "metadata": {},
   "source": [
    "write a function that takes a string named s and prints the string with\n",
    "enough leading spaces so that the last letter of the string is in column 70."
   ]
  },
  {
   "cell_type": "code",
   "execution_count": 3,
   "metadata": {},
   "outputs": [],
   "source": [
    "def right_justify(s):\n",
    "    print(' ' * (70 - len(s)) + s)"
   ]
  },
  {
   "cell_type": "code",
   "execution_count": 4,
   "metadata": {},
   "outputs": [
    {
     "name": "stdout",
     "output_type": "stream",
     "text": [
      "                                                               Brandon\n"
     ]
    }
   ],
   "source": [
    "right_justify('Brandon')"
   ]
  },
  {
   "cell_type": "markdown",
   "metadata": {},
   "source": [
    "### Exercise 3-2"
   ]
  },
  {
   "cell_type": "markdown",
   "metadata": {},
   "source": [
    "Note that the examples below are **void functions**. They yield something on the screen (a side effect), but they do not have a return value. Functions yielding return values are **fruitful functions**, covered in a subsequent chapter."
   ]
  },
  {
   "cell_type": "code",
   "execution_count": 6,
   "metadata": {},
   "outputs": [
    {
     "name": "stdout",
     "output_type": "stream",
     "text": [
      "spam\n",
      "spam\n"
     ]
    }
   ],
   "source": [
    "def do_twice(f):\n",
    "    f()\n",
    "    f()\n",
    "\n",
    "def print_spam():\n",
    "    print('spam')\n",
    "\n",
    "do_twice(print_spam)\n"
   ]
  },
  {
   "cell_type": "markdown",
   "metadata": {},
   "source": [
    "Modify `do_twice` so it takes 2 args, a function object and a value, and calls the function twice, passing the value as an argument. Use the modified version of `do_twice` to call `print_twice` (a function from earlier in the chapter), twice, passing 'spam' as arg."
   ]
  },
  {
   "cell_type": "code",
   "execution_count": 7,
   "metadata": {},
   "outputs": [
    {
     "name": "stdout",
     "output_type": "stream",
     "text": [
      "spam\n",
      "spam\n",
      "spam\n",
      "spam\n"
     ]
    }
   ],
   "source": [
    "def do_twice(f, value):\n",
    "    f(value)\n",
    "    f(value)\n",
    "\n",
    "# from earlier in the chapter\n",
    "def print_twice(string):\n",
    "    print(string)\n",
    "    print(string)\n",
    "\n",
    "do_twice(print_twice, 'spam')"
   ]
  },
  {
   "cell_type": "markdown",
   "metadata": {},
   "source": [
    "Define a new function called `do_four` that takes a function object and a value, and calls the function 4 times, passing the value as a paramter. There should only be 2 statements in the body of this function, not four."
   ]
  },
  {
   "cell_type": "code",
   "execution_count": 9,
   "metadata": {},
   "outputs": [
    {
     "name": "stdout",
     "output_type": "stream",
     "text": [
      "spam\n",
      "spam\n",
      "spam\n",
      "spam\n",
      "spam\n",
      "spam\n",
      "spam\n",
      "spam\n"
     ]
    }
   ],
   "source": [
    "def do_four(f, value):\n",
    "    do_twice(f, value)\n",
    "    do_twice(f, value)\n",
    "\n",
    "do_four(print_twice, 'spam')"
   ]
  },
  {
   "cell_type": "markdown",
   "metadata": {},
   "source": [
    "### Exercise 3-3"
   ]
  },
  {
   "cell_type": "markdown",
   "metadata": {},
   "source": [
    "Write a function that draws a grid of 2 rows and 2 columns using only what we've learned so far."
   ]
  },
  {
   "cell_type": "code",
   "execution_count": 3,
   "metadata": {},
   "outputs": [
    {
     "name": "stdout",
     "output_type": "stream",
     "text": [
      "+ - - - - + - - - - +\n",
      "|         |         |\n",
      "|         |         |\n",
      "|         |         |\n",
      "|         |         |\n",
      "+ - - - - + - - - - +\n",
      "|         |         |\n",
      "|         |         |\n",
      "|         |         |\n",
      "|         |         |\n",
      "+ - - - - + - - - - +\n"
     ]
    }
   ],
   "source": [
    "def do_twice(f):\n",
    "    f()\n",
    "    f()\n",
    "    \n",
    "def print_beam():\n",
    "    print('+ - - - -', end = ' ') # last arg overrides newline behavior to keep on same line.\n",
    "\n",
    "def print_post():\n",
    "    print('|        ', end = ' ')\n",
    "\n",
    "def print_beams():\n",
    "    do_twice(print_beam)\n",
    "    print('+') # adds a '+' to end of beam\n",
    "\n",
    "def print_posts():\n",
    "    do_twice(print_post)\n",
    "    print('|') # adds a post '|' to end \n",
    "\n",
    "def do_four_times(f):\n",
    "    do_twice(f)\n",
    "    do_twice(f)\n",
    "    \n",
    "# print a grid using functions created above.\n",
    "def print_grid():\n",
    "    print_beams()\n",
    "    do_four_times(print_posts)\n",
    "    print_beams()\n",
    "    do_four_times(print_posts)\n",
    "    print_beams()\n",
    "\n",
    "print_grid()\n",
    "    "
   ]
  },
  {
   "cell_type": "markdown",
   "metadata": {},
   "source": [
    "Now write a function that draws a similar grid with four rows and four columns.  "
   ]
  },
  {
   "cell_type": "code",
   "execution_count": 11,
   "metadata": {},
   "outputs": [
    {
     "name": "stdout",
     "output_type": "stream",
     "text": [
      "+ - - - - + - - - - + - - - - + - - - - +\n",
      "|         |         |         |         |\n",
      "|         |         |         |         |\n",
      "|         |         |         |         |\n",
      "|         |         |         |         |\n",
      "+ - - - - + - - - - + - - - - + - - - - +\n",
      "|         |         |         |         |\n",
      "|         |         |         |         |\n",
      "|         |         |         |         |\n",
      "|         |         |         |         |\n",
      "+ - - - - + - - - - + - - - - + - - - - +\n",
      "|         |         |         |         |\n",
      "|         |         |         |         |\n",
      "|         |         |         |         |\n",
      "|         |         |         |         |\n",
      "+ - - - - + - - - - + - - - - + - - - - +\n",
      "|         |         |         |         |\n",
      "|         |         |         |         |\n",
      "|         |         |         |         |\n",
      "|         |         |         |         |\n",
      "+ - - - - + - - - - + - - - - + - - - - +\n"
     ]
    }
   ],
   "source": [
    "def print_many_posts():\n",
    "    do_four_times(print_post)\n",
    "    print('|')\n",
    "    \n",
    "def print_many_beams():\n",
    "    do_four_times(print_beam)\n",
    "    print('+')\n",
    "\n",
    "def print_large_grid():\n",
    "    print_many_beams()\n",
    "    do_four_times(print_many_posts)\n",
    "    print_many_beams()\n",
    "    do_four_times(print_many_posts)\n",
    "    print_many_beams()\n",
    "    do_four_times(print_many_posts)\n",
    "    print_many_beams()\n",
    "    do_four_times(print_many_posts)\n",
    "    print_many_beams()\n",
    "\n",
    "print_large_grid()\n"
   ]
  },
  {
   "cell_type": "markdown",
   "metadata": {},
   "source": [
    "Note the redundancy of the code in `print_large_grid`. There may be a way to refactor this to make it simpler, seeing that there is a clear repeat pattern of the function calls within. **Something to come back to*."
   ]
  }
 ],
 "metadata": {
  "kernelspec": {
   "display_name": "Python 3",
   "language": "python",
   "name": "python3"
  },
  "language_info": {
   "codemirror_mode": {
    "name": "ipython",
    "version": 3
   },
   "file_extension": ".py",
   "mimetype": "text/x-python",
   "name": "python",
   "nbconvert_exporter": "python",
   "pygments_lexer": "ipython3",
   "version": "3.6.4"
  }
 },
 "nbformat": 4,
 "nbformat_minor": 2
}
